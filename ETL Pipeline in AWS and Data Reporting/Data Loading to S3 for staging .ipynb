{
 "cells": [
  {
   "cell_type": "code",
   "execution_count": 1,
   "metadata": {},
   "outputs": [],
   "source": [
    "# Importing all the required libraries\n",
    "\n",
    "import mysql.connector \n",
    "import pandas as pd\n",
    "import boto3\n",
    "from io import StringIO\n",
    "import credentials as cre\n",
    "import email\n",
    "import smtplib\n",
    "from datetime import datetime"
   ]
  },
  {
   "cell_type": "code",
   "execution_count": 2,
   "metadata": {},
   "outputs": [],
   "source": [
    "# Connecting to AWS\n",
    "\n",
    "session = boto3.Session(\n",
    "    aws_access_key_id=cre.Access_key,\n",
    "    aws_secret_access_key=cre.Secret_key)"
   ]
  },
  {
   "cell_type": "code",
   "execution_count": 3,
   "metadata": {},
   "outputs": [
    {
     "name": "stdout",
     "output_type": "stream",
     "text": [
      "Bucket created successfully\n"
     ]
    }
   ],
   "source": [
    "# Creating bucket on S3 \n",
    "\n",
    "s3 = session.resource('s3')\n",
    "\n",
    "bucket_name = 'yu-stackoverflow-data-staging'\n",
    "\n",
    "s3_client = boto3.client('s3', \n",
    "                         aws_access_key_id=cre.Access_key,\n",
    "                         aws_secret_access_key=cre.Secret_key)\n",
    "    \n",
    "bucket_list = [bucket.name for bucket in s3.buckets.all()]\n",
    "\n",
    "if bucket_name not in bucket_list:\n",
    "    s3_client.create_bucket(Bucket=bucket_name)\n",
    "    print('Bucket created successfully')\n",
    "else: \n",
    "    print('Bucket name already exists')"
   ]
  },
  {
   "cell_type": "code",
   "execution_count": 4,
   "metadata": {},
   "outputs": [
    {
     "name": "stdout",
     "output_type": "stream",
     "text": [
      "badges.csv file loaded successfully\n",
      "comments.csv file loaded successfully\n",
      "postHistory.csv file loaded successfully\n",
      "postLinks.csv file loaded successfully\n",
      "posts.csv file loaded successfully\n",
      "tags.csv file loaded successfully\n",
      "users.csv file loaded successfully\n",
      "votes.csv file loaded successfully\n"
     ]
    }
   ],
   "source": [
    "# Connecting to Mysql database\n",
    "\n",
    "cnx = mysql.connector.connect(host='relational.fit.cvut.cz',\n",
    "                             password='relational',\n",
    "                             user='guest',\n",
    "                             database='stats',use_pure=True)\n",
    "\n",
    "cursor = cnx.cursor(buffered=True)\n",
    "cursor.execute(\"SHOW TABLES\")\n",
    "\n",
    "my_bucket = s3.Bucket(bucket_name)\n",
    "\n",
    "# list of Bucket objects\n",
    "b_list = [my_bucket_object.key for my_bucket_object in my_bucket.objects.all()]\n",
    "\n",
    "for table_name in cursor:\n",
    "    name = table_name[0]\n",
    "    if name+'.csv' not in b_list:\n",
    "        sql_select_Query = \"select * from \"+ name\n",
    "        result_dataFrame = pd.read_sql(sql_select_Query,cnx)     \n",
    "        \n",
    "        #loading data as CSV\n",
    "        csv_buffer = StringIO()\n",
    "        result_dataFrame.to_csv(csv_buffer, index = False)\n",
    "        s3.Object(bucket_name, name+'.csv').put(Body=csv_buffer.getvalue())\n",
    "        print(name+'.csv','file loaded successfully')\n",
    "    else:\n",
    "        print(name+'.csv','file already exists')\n",
    "    \n",
    "cnx.close()"
   ]
  },
  {
   "cell_type": "code",
   "execution_count": 5,
   "metadata": {},
   "outputs": [],
   "source": [
    "# Email notification if data is loaded on S3\n",
    "\n",
    "def send_email_notification(msg):\n",
    "    gmail_user = cre.gmail_user\n",
    "    gmail_password = cre.gmail_password\n",
    "    now = datetime.now() # current date and time\n",
    "\n",
    "    sent_from = gmail_user\n",
    "    to = ['snayak@mail.yu.edu']\n",
    "    subject = 'Job Completed on: '+ now.strftime(\"%m/%d/%Y - %H:%M:%S\")\n",
    "    body = 'Task processed with 0 Errors'+ ' Task name: '+ msg\n",
    "\n",
    "    email_text = \"\"\"\\\n",
    "    From: %s\n",
    "    To: %s\n",
    "    Subject: %s \n",
    "    \n",
    "    %s\n",
    "    \"\"\" % (sent_from, to, subject, body)\n",
    "\n",
    "    try:\n",
    "     \n",
    "        server = smtplib.SMTP('smtp.gmail.com', 587) \n",
    "        server.ehlo()\n",
    "        server.starttls() \n",
    "        server.login(gmail_user, gmail_password)\n",
    "        server.sendmail(sent_from, to, email_text)\n",
    "        server.close()\n",
    "        print ('Email successfully sent')\n",
    "    except:\n",
    "        print ('Error: your email did not send')"
   ]
  },
  {
   "cell_type": "code",
   "execution_count": 6,
   "metadata": {},
   "outputs": [
    {
     "name": "stdout",
     "output_type": "stream",
     "text": [
      "s3 data loading\n",
      "Email successfully sent\n"
     ]
    }
   ],
   "source": [
    "cnx = mysql.connector.connect(host='relational.fit.cvut.cz',\n",
    "                             password='relational',\n",
    "                             user='guest',\n",
    "                             database='stats',use_pure=True)\n",
    "\n",
    "cursor = cnx.cursor(buffered=True)\n",
    "cursor.execute(\"SHOW TABLES\")\n",
    "\n",
    "my_bucket = s3.Bucket(bucket_name)\n",
    "\n",
    "# list of Bucket objects\n",
    "b_list = [my_bucket_object.key for my_bucket_object in my_bucket.objects.all()]\n",
    "\n",
    "counter = 0\n",
    "for table_name in cursor:\n",
    "    name = table_name[0]\n",
    "    if name+'.csv' in b_list:\n",
    "        counter+=1\n",
    "\n",
    "msg = input()\n",
    "if msg == 's3 data loading':\n",
    "    if counter == len(b_list): # if all the files are uploaded from mysql database \n",
    "        send_email_notification(msg)\n",
    "else:\n",
    "    print('give proper msg')"
   ]
  },
  {
   "cell_type": "markdown",
   "metadata": {},
   "source": [
    "References:\n",
    "    \n",
    "1. https://www.tutorialspoint.com/how-to-show-all-the-tables-present-in-the-database-and-server-in-mysql-using-python\n",
    "2. https://www.edureka.co/community/31905/how-to-print-the-names-of-all-the-bucket-in-s3-in-python\n",
    "3. https://www.stackvidhya.com/list-contents-of-s3-bucket-using-boto3-python/"
   ]
  }
 ],
 "metadata": {
  "kernelspec": {
   "display_name": "Python 3",
   "language": "python",
   "name": "python3"
  },
  "language_info": {
   "codemirror_mode": {
    "name": "ipython",
    "version": 3
   },
   "file_extension": ".py",
   "mimetype": "text/x-python",
   "name": "python",
   "nbconvert_exporter": "python",
   "pygments_lexer": "ipython3",
   "version": "3.8.5"
  }
 },
 "nbformat": 4,
 "nbformat_minor": 4
}
