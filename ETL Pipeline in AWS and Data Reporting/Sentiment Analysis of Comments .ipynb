{
 "cells": [
  {
   "cell_type": "code",
   "execution_count": 1,
   "metadata": {},
   "outputs": [],
   "source": [
    "# Importing all the required libraries\n",
    "\n",
    "import mysql.connector \n",
    "import pandas as pd\n",
    "import re\n",
    "import matplotlib.pyplot as plt\n",
    "%matplotlib inline  \n",
    "import nltk\n",
    "from nltk import word_tokenize, sent_tokenize\n",
    "from nltk.corpus import stopwords\n",
    "from nltk.stem import LancasterStemmer, WordNetLemmatizer, PorterStemmer\n",
    "from wordcloud import WordCloud, STOPWORDS\n",
    "from textblob import TextBlob\n",
    "import string"
   ]
  },
  {
   "cell_type": "code",
   "execution_count": 2,
   "metadata": {},
   "outputs": [],
   "source": [
    "# Connecting to database\n",
    "cnx = mysql.connector.connect(host='relational.fit.cvut.cz',\n",
    "                             password='relational',\n",
    "                             user='guest',\n",
    "                             database='stats',use_pure=True)"
   ]
  },
  {
   "cell_type": "code",
   "execution_count": 3,
   "metadata": {},
   "outputs": [],
   "source": [
    "cursor = cnx.cursor()"
   ]
  },
  {
   "cell_type": "code",
   "execution_count": 4,
   "metadata": {},
   "outputs": [],
   "source": [
    "sql_select_Query = \"select * from comments\""
   ]
  },
  {
   "cell_type": "code",
   "execution_count": 5,
   "metadata": {},
   "outputs": [],
   "source": [
    "# Creating dataframe from table \n",
    "result_dataFrame = pd.read_sql(sql_select_Query,cnx)\n",
    "cnx.close() #"
   ]
  },
  {
   "cell_type": "code",
   "execution_count": 6,
   "metadata": {},
   "outputs": [
    {
     "data": {
      "text/html": [
       "<div>\n",
       "<style scoped>\n",
       "    .dataframe tbody tr th:only-of-type {\n",
       "        vertical-align: middle;\n",
       "    }\n",
       "\n",
       "    .dataframe tbody tr th {\n",
       "        vertical-align: top;\n",
       "    }\n",
       "\n",
       "    .dataframe thead th {\n",
       "        text-align: right;\n",
       "    }\n",
       "</style>\n",
       "<table border=\"1\" class=\"dataframe\">\n",
       "  <thead>\n",
       "    <tr style=\"text-align: right;\">\n",
       "      <th></th>\n",
       "      <th>Id</th>\n",
       "      <th>PostId</th>\n",
       "      <th>Score</th>\n",
       "      <th>Text</th>\n",
       "      <th>CreationDate</th>\n",
       "      <th>UserId</th>\n",
       "      <th>UserDisplayName</th>\n",
       "    </tr>\n",
       "  </thead>\n",
       "  <tbody>\n",
       "    <tr>\n",
       "      <th>0</th>\n",
       "      <td>1</td>\n",
       "      <td>3</td>\n",
       "      <td>5</td>\n",
       "      <td>Could be a poster child fo argumentative and s...</td>\n",
       "      <td>2010-07-19 19:15:52</td>\n",
       "      <td>13.0</td>\n",
       "      <td>None</td>\n",
       "    </tr>\n",
       "    <tr>\n",
       "      <th>1</th>\n",
       "      <td>2</td>\n",
       "      <td>5</td>\n",
       "      <td>0</td>\n",
       "      <td>Yes, R is nice- but WHY is it 'valuable'.</td>\n",
       "      <td>2010-07-19 19:16:14</td>\n",
       "      <td>13.0</td>\n",
       "      <td>None</td>\n",
       "    </tr>\n",
       "    <tr>\n",
       "      <th>2</th>\n",
       "      <td>3</td>\n",
       "      <td>9</td>\n",
       "      <td>0</td>\n",
       "      <td>Again- why?  How would I convince my boss to u...</td>\n",
       "      <td>2010-07-19 19:18:54</td>\n",
       "      <td>13.0</td>\n",
       "      <td>None</td>\n",
       "    </tr>\n",
       "    <tr>\n",
       "      <th>3</th>\n",
       "      <td>4</td>\n",
       "      <td>5</td>\n",
       "      <td>11</td>\n",
       "      <td>It's mature, well supported, and a standard wi...</td>\n",
       "      <td>2010-07-19 19:19:56</td>\n",
       "      <td>37.0</td>\n",
       "      <td>None</td>\n",
       "    </tr>\n",
       "    <tr>\n",
       "      <th>4</th>\n",
       "      <td>5</td>\n",
       "      <td>3</td>\n",
       "      <td>1</td>\n",
       "      <td>Define \"valuable\"...</td>\n",
       "      <td>2010-07-19 19:20:28</td>\n",
       "      <td>5.0</td>\n",
       "      <td>None</td>\n",
       "    </tr>\n",
       "    <tr>\n",
       "      <th>...</th>\n",
       "      <td>...</td>\n",
       "      <td>...</td>\n",
       "      <td>...</td>\n",
       "      <td>...</td>\n",
       "      <td>...</td>\n",
       "      <td>...</td>\n",
       "      <td>...</td>\n",
       "    </tr>\n",
       "    <tr>\n",
       "      <th>174300</th>\n",
       "      <td>221288</td>\n",
       "      <td>52312</td>\n",
       "      <td>0</td>\n",
       "      <td>You and Bogdanovist are in disagreement when y...</td>\n",
       "      <td>2014-09-14 01:45:11</td>\n",
       "      <td>13564.0</td>\n",
       "      <td>None</td>\n",
       "    </tr>\n",
       "    <tr>\n",
       "      <th>174301</th>\n",
       "      <td>221289</td>\n",
       "      <td>115376</td>\n",
       "      <td>0</td>\n",
       "      <td>@gung goal would be to say \"Videos on this cha...</td>\n",
       "      <td>2014-09-14 01:45:19</td>\n",
       "      <td>55746.0</td>\n",
       "      <td>None</td>\n",
       "    </tr>\n",
       "    <tr>\n",
       "      <th>174302</th>\n",
       "      <td>221290</td>\n",
       "      <td>52312</td>\n",
       "      <td>0</td>\n",
       "      <td>Especially for small datasets where maybe leav...</td>\n",
       "      <td>2014-09-14 01:47:33</td>\n",
       "      <td>13564.0</td>\n",
       "      <td>None</td>\n",
       "    </tr>\n",
       "    <tr>\n",
       "      <th>174303</th>\n",
       "      <td>221291</td>\n",
       "      <td>115374</td>\n",
       "      <td>0</td>\n",
       "      <td>In fact, odds of 1-1 are said to be _even_, ar...</td>\n",
       "      <td>2014-09-14 01:49:32</td>\n",
       "      <td>6633.0</td>\n",
       "      <td>None</td>\n",
       "    </tr>\n",
       "    <tr>\n",
       "      <th>174304</th>\n",
       "      <td>221292</td>\n",
       "      <td>115374</td>\n",
       "      <td>1</td>\n",
       "      <td>@DilipSarwate indeed, in that case, the odds a...</td>\n",
       "      <td>2014-09-14 02:04:27</td>\n",
       "      <td>805.0</td>\n",
       "      <td>None</td>\n",
       "    </tr>\n",
       "  </tbody>\n",
       "</table>\n",
       "<p>174305 rows × 7 columns</p>\n",
       "</div>"
      ],
      "text/plain": [
       "            Id  PostId  Score  \\\n",
       "0            1       3      5   \n",
       "1            2       5      0   \n",
       "2            3       9      0   \n",
       "3            4       5     11   \n",
       "4            5       3      1   \n",
       "...        ...     ...    ...   \n",
       "174300  221288   52312      0   \n",
       "174301  221289  115376      0   \n",
       "174302  221290   52312      0   \n",
       "174303  221291  115374      0   \n",
       "174304  221292  115374      1   \n",
       "\n",
       "                                                     Text        CreationDate  \\\n",
       "0       Could be a poster child fo argumentative and s... 2010-07-19 19:15:52   \n",
       "1               Yes, R is nice- but WHY is it 'valuable'. 2010-07-19 19:16:14   \n",
       "2       Again- why?  How would I convince my boss to u... 2010-07-19 19:18:54   \n",
       "3       It's mature, well supported, and a standard wi... 2010-07-19 19:19:56   \n",
       "4                                    Define \"valuable\"... 2010-07-19 19:20:28   \n",
       "...                                                   ...                 ...   \n",
       "174300  You and Bogdanovist are in disagreement when y... 2014-09-14 01:45:11   \n",
       "174301  @gung goal would be to say \"Videos on this cha... 2014-09-14 01:45:19   \n",
       "174302  Especially for small datasets where maybe leav... 2014-09-14 01:47:33   \n",
       "174303  In fact, odds of 1-1 are said to be _even_, ar... 2014-09-14 01:49:32   \n",
       "174304  @DilipSarwate indeed, in that case, the odds a... 2014-09-14 02:04:27   \n",
       "\n",
       "         UserId UserDisplayName  \n",
       "0          13.0            None  \n",
       "1          13.0            None  \n",
       "2          13.0            None  \n",
       "3          37.0            None  \n",
       "4           5.0            None  \n",
       "...         ...             ...  \n",
       "174300  13564.0            None  \n",
       "174301  55746.0            None  \n",
       "174302  13564.0            None  \n",
       "174303   6633.0            None  \n",
       "174304    805.0            None  \n",
       "\n",
       "[174305 rows x 7 columns]"
      ]
     },
     "execution_count": 6,
     "metadata": {},
     "output_type": "execute_result"
    }
   ],
   "source": [
    "# Displaying Dataframe \n",
    "result_dataFrame"
   ]
  },
  {
   "cell_type": "code",
   "execution_count": 7,
   "metadata": {},
   "outputs": [
    {
     "name": "stdout",
     "output_type": "stream",
     "text": [
      "<class 'pandas.core.frame.DataFrame'>\n",
      "RangeIndex: 174305 entries, 0 to 174304\n",
      "Data columns (total 7 columns):\n",
      " #   Column           Non-Null Count   Dtype         \n",
      "---  ------           --------------   -----         \n",
      " 0   Id               174305 non-null  int64         \n",
      " 1   PostId           174305 non-null  int64         \n",
      " 2   Score            174305 non-null  int64         \n",
      " 3   Text             174305 non-null  object        \n",
      " 4   CreationDate     174305 non-null  datetime64[ns]\n",
      " 5   UserId           171470 non-null  float64       \n",
      " 6   UserDisplayName  2831 non-null    object        \n",
      "dtypes: datetime64[ns](1), float64(1), int64(3), object(2)\n",
      "memory usage: 9.3+ MB\n"
     ]
    }
   ],
   "source": [
    "result_dataFrame.info()"
   ]
  },
  {
   "cell_type": "markdown",
   "metadata": {},
   "source": [
    "### Data Processing"
   ]
  },
  {
   "cell_type": "code",
   "execution_count": 8,
   "metadata": {},
   "outputs": [
    {
     "data": {
      "text/plain": [
       "'Again- why?  How would I convince my boss to use this over, say, Excel.'"
      ]
     },
     "execution_count": 8,
     "metadata": {},
     "output_type": "execute_result"
    }
   ],
   "source": [
    "## Change the reviews type to string\n",
    "result_dataFrame['Text'] = result_dataFrame['Text'].astype(str)\n",
    "result_dataFrame['Text'][2]"
   ]
  },
  {
   "cell_type": "code",
   "execution_count": 9,
   "metadata": {},
   "outputs": [
    {
     "data": {
      "text/plain": [
       "'again- why? how would i convince my boss to use this over, say, excel.'"
      ]
     },
     "execution_count": 9,
     "metadata": {},
     "output_type": "execute_result"
    }
   ],
   "source": [
    "## Lowercase all reviews\n",
    "result_dataFrame['Text'] = result_dataFrame['Text'].apply(lambda x: \" \".join(x.lower() for x in x.split()))\n",
    "result_dataFrame['Text'][2]"
   ]
  },
  {
   "cell_type": "code",
   "execution_count": 10,
   "metadata": {},
   "outputs": [
    {
     "data": {
      "text/plain": [
       "'again why how would i convince my boss to use this over say excel'"
      ]
     },
     "execution_count": 10,
     "metadata": {},
     "output_type": "execute_result"
    }
   ],
   "source": [
    "## remove punctuation\n",
    "result_dataFrame['Text'] = result_dataFrame['Text'].str.replace(r\"[,.;@#?!&$-]+\",'')\n",
    "result_dataFrame['Text'][2]"
   ]
  },
  {
   "cell_type": "code",
   "execution_count": 11,
   "metadata": {},
   "outputs": [
    {
     "data": {
      "text/plain": [
       "'again why how would i convince my boss to use this over say excel'"
      ]
     },
     "execution_count": 11,
     "metadata": {},
     "output_type": "execute_result"
    }
   ],
   "source": [
    "stop = stopwords.words('english')\n",
    "result_dataFrame['Texmt'] = result_dataFrame['Text'].apply(lambda x: \" \".join(x for x in x.split() if x not in stop))\n",
    "result_dataFrame['Text'][2]"
   ]
  },
  {
   "cell_type": "code",
   "execution_count": 12,
   "metadata": {},
   "outputs": [
    {
     "data": {
      "text/plain": [
       "'again whi how would i convinc my boss to use thi over say excel'"
      ]
     },
     "execution_count": 12,
     "metadata": {},
     "output_type": "execute_result"
    }
   ],
   "source": [
    "st = PorterStemmer()\n",
    "result_dataFrame['Text'] = result_dataFrame['Text'].apply(lambda x: \" \".join([st.stem(word) for word in x.split()]))\n",
    "result_dataFrame['Text'][2]"
   ]
  },
  {
   "cell_type": "code",
   "execution_count": 13,
   "metadata": {},
   "outputs": [],
   "source": [
    "## Define a function which can be applied to calculate the score for the whole dataset\n",
    "\n",
    "def senti(x):\n",
    "    return TextBlob(x).sentiment  \n",
    "\n",
    "result_dataFrame['senti_score'] = result_dataFrame['Text'].apply(senti)\n"
   ]
  },
  {
   "cell_type": "markdown",
   "metadata": {},
   "source": [
    "As it can be observed there are two scores: the first score is sentiment polarity which tells if the sentiment is positive or negative and the second score is subjectivity score to tell how subjective is the text.\n",
    "\n"
   ]
  },
  {
   "cell_type": "code",
   "execution_count": 14,
   "metadata": {},
   "outputs": [
    {
     "name": "stderr",
     "output_type": "stream",
     "text": [
      "<ipython-input-14-e92068ff6df9>:3: SettingWithCopyWarning: \n",
      "A value is trying to be set on a copy of a slice from a DataFrame\n",
      "\n",
      "See the caveats in the documentation: https://pandas.pydata.org/pandas-docs/stable/user_guide/indexing.html#returning-a-view-versus-a-copy\n",
      "  result_dataFrame['senti_score_polarity'][i] = result_dataFrame['senti_score'][i].polarity\n"
     ]
    }
   ],
   "source": [
    "result_dataFrame['senti_score_polarity'] = ''\n",
    "for i in range(len(result_dataFrame['senti_score'])):\n",
    "    result_dataFrame['senti_score_polarity'][i] = result_dataFrame['senti_score'][i].polarity"
   ]
  },
  {
   "cell_type": "code",
   "execution_count": 15,
   "metadata": {},
   "outputs": [],
   "source": [
    "result_dataFrame['senti_score_polarity'] = result_dataFrame['senti_score_polarity'].astype(float)"
   ]
  },
  {
   "cell_type": "code",
   "execution_count": 18,
   "metadata": {},
   "outputs": [
    {
     "data": {
      "image/png": "[encoded data removed]",
      "text/plain": [
       "<Figure size 720x432 with 1 Axes>"
      ]
     },
     "metadata": {
      "needs_background": "light"
     },
     "output_type": "display_data"
    }
   ],
   "source": [
    "result_dataFrame.hist(column='senti_score_polarity', bins = 30, figsize=(10,6));\n",
    "plt.title('Histogram Of Sentiment Scores')\n",
    "plt.xlabel('Sentiment Score')\n",
    "plt.ylabel(\"Count of Posts\");\n"
   ]
  },
  {
   "cell_type": "code",
   "execution_count": 19,
   "metadata": {},
   "outputs": [],
   "source": [
    "result_dataFrame.to_csv('Comments_sentiment_Score.csv', index = False)"
   ]
  },
  {
   "cell_type": "code",
   "execution_count": null,
   "metadata": {},
   "outputs": [],
   "source": []
  }
 ],
 "metadata": {
  "kernelspec": {
   "display_name": "Python 3",
   "language": "python",
   "name": "python3"
  },
  "language_info": {
   "codemirror_mode": {
    "name": "ipython",
    "version": 3
   },
   "file_extension": ".py",
   "mimetype": "text/x-python",
   "name": "python",
   "nbconvert_exporter": "python",
   "pygments_lexer": "ipython3",
   "version": "3.8.5"
  }
 },
 "nbformat": 4,
 "nbformat_minor": 4
}
